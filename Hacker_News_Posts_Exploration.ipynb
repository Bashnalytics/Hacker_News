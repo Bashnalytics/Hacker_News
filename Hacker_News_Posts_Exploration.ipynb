{
  "nbformat": 4,
  "nbformat_minor": 0,
  "metadata": {
    "colab": {
      "provenance": []
    },
    "kernelspec": {
      "name": "python3",
      "display_name": "Python 3"
    },
    "language_info": {
      "name": "python"
    }
  },
  "cells": [
    {
      "cell_type": "markdown",
      "source": [
        "**Hacker News Posts Data Exploration**\n",
        "\n",
        "*This is a data exploration of the different posts on Hacker News, to determine the different types/classes of posts and the number of comments on such posts.*\n",
        "\n",
        "*Also, to estimate the best time of the day to post on Hacker News to get a response from the community.*"
      ],
      "metadata": {
        "id": "YStQU1AkpX5T"
      }
    },
    {
      "cell_type": "code",
      "execution_count": 1,
      "metadata": {
        "id": "UB8TReN4pBoj"
      },
      "outputs": [],
      "source": [
        "from csv import reader\n",
        "from datetime import *\n"
      ]
    },
    {
      "cell_type": "markdown",
      "source": [
        "**Functions**"
      ],
      "metadata": {
        "id": "P589ou9_02ym"
      }
    },
    {
      "cell_type": "code",
      "source": [
        "def open_dataset(file_name):\n",
        "    \n",
        "    opened_file = open(file_name)\n",
        "    from csv import reader\n",
        "    read_file = reader(opened_file)\n",
        "    data = list(read_file)\n",
        "    \n",
        "    return data\n",
        "\n",
        "def explore_data(dataset, start, end, rows_and_columns=False):\n",
        "    dataset_slice = dataset[start:end]    \n",
        "    for row in dataset_slice:\n",
        "        print(row)\n",
        "        print('\\n') # adds a new (empty) line after each row\n",
        "\n",
        "    if rows_and_columns:\n",
        "        print('Number of rows:', len(dataset))\n",
        "        print('Number of columns:', len(dataset[0]))"
      ],
      "metadata": {
        "id": "V00JRBEU0z6R"
      },
      "execution_count": 12,
      "outputs": []
    },
    {
      "cell_type": "markdown",
      "source": [
        "**To read the file into my notebook and explore:**"
      ],
      "metadata": {
        "id": "DdyV4VjRsTg1"
      }
    },
    {
      "cell_type": "code",
      "source": [
        "hn = open_dataset(\"/content/HN_posts_year_to_Sep_26_2016.csv\")\n",
        "hn_header = hn[0]\n",
        "hn = hn[1:]\n",
        "\n",
        "print(hn_header)\n",
        "explore_data(hn,0,5,True)"
      ],
      "metadata": {
        "colab": {
          "base_uri": "https://localhost:8080/"
        },
        "id": "Z1B3a80KqFDG",
        "outputId": "43678c2b-6db8-4940-cc68-f3858907d007"
      },
      "execution_count": 16,
      "outputs": [
        {
          "output_type": "stream",
          "name": "stdout",
          "text": [
            "['id', 'title', 'url', 'num_points', 'num_comments', 'author', 'created_at']\n",
            "['12579008', 'You have two days to comment if you want stem cells to be classified as your own', 'http://www.regulations.gov/document?D=FDA-2015-D-3719-0018', '1', '0', 'altstar', '9/26/2016 3:26']\n",
            "\n",
            "\n",
            "['12579005', 'SQLAR  the SQLite Archiver', 'https://www.sqlite.org/sqlar/doc/trunk/README.md', '1', '0', 'blacksqr', '9/26/2016 3:24']\n",
            "\n",
            "\n",
            "['12578997', 'What if we just printed a flatscreen television on the side of our boxes?', 'https://medium.com/vanmoof/our-secrets-out-f21c1f03fdc8#.ietxmez43', '1', '0', 'pavel_lishin', '9/26/2016 3:19']\n",
            "\n",
            "\n",
            "['12578989', 'algorithmic music', 'http://cacm.acm.org/magazines/2011/7/109891-algorithmic-composition/fulltext', '1', '0', 'poindontcare', '9/26/2016 3:16']\n",
            "\n",
            "\n",
            "['12578979', 'How the Data Vault Enables the Next-Gen Data Warehouse and Data Lake', 'https://www.talend.com/blog/2016/05/12/talend-and-Â\\x93the-data-vaultÂ\\x94', '1', '0', 'markgainor1', '9/26/2016 3:14']\n",
            "\n",
            "\n",
            "Number of rows: 293119\n",
            "Number of columns: 7\n"
          ]
        }
      ]
    },
    {
      "cell_type": "markdown",
      "source": [
        "**Segmenting posts with comments from those with none:**"
      ],
      "metadata": {
        "id": "AfOjEsoAsZAk"
      }
    },
    {
      "cell_type": "code",
      "source": [
        "hn_no_comments = []\n",
        "hn_comments = []\n",
        "for post in hn:\n",
        "  comment = post[4]\n",
        "  if comment == \"0\":\n",
        "    hn_no_comments.append(post)\n",
        "  else:\n",
        "    hn_comments.append(post)\n",
        "explore_data(hn_no_comments, 0, 4, True)\n",
        "explore_data(hn_comments, 0, 4, True)"
      ],
      "metadata": {
        "colab": {
          "base_uri": "https://localhost:8080/"
        },
        "id": "gJNR-teGsf6F",
        "outputId": "d1f90850-c1c4-482d-a5bb-f94f8897f815"
      },
      "execution_count": 18,
      "outputs": [
        {
          "output_type": "stream",
          "name": "stdout",
          "text": [
            "['12579008', 'You have two days to comment if you want stem cells to be classified as your own', 'http://www.regulations.gov/document?D=FDA-2015-D-3719-0018', '1', '0', 'altstar', '9/26/2016 3:26']\n",
            "\n",
            "\n",
            "['12579005', 'SQLAR  the SQLite Archiver', 'https://www.sqlite.org/sqlar/doc/trunk/README.md', '1', '0', 'blacksqr', '9/26/2016 3:24']\n",
            "\n",
            "\n",
            "['12578997', 'What if we just printed a flatscreen television on the side of our boxes?', 'https://medium.com/vanmoof/our-secrets-out-f21c1f03fdc8#.ietxmez43', '1', '0', 'pavel_lishin', '9/26/2016 3:19']\n",
            "\n",
            "\n",
            "['12578989', 'algorithmic music', 'http://cacm.acm.org/magazines/2011/7/109891-algorithmic-composition/fulltext', '1', '0', 'poindontcare', '9/26/2016 3:16']\n",
            "\n",
            "\n",
            "Number of rows: 212718\n",
            "Number of columns: 7\n",
            "['12578975', 'Saving the Hassle of Shopping', 'https://blog.menswr.com/2016/09/07/whats-new-with-your-style-feed/', '1', '1', 'bdoux', '9/26/2016 3:13']\n",
            "\n",
            "\n",
            "['12578908', 'Ask HN: What TLD do you use for local development?', '', '4', '7', 'Sevrene', '9/26/2016 2:53']\n",
            "\n",
            "\n",
            "['12578822', 'Amazons Algorithms Dont Find You the Best Deals', 'https://www.technologyreview.com/s/602442/amazons-algorithms-dont-find-you-the-best-deals/', '1', '1', 'yarapavan', '9/26/2016 2:26']\n",
            "\n",
            "\n",
            "['12578694', 'Emergency dose of epinephrine that does not cost an arm and a leg', 'http://m.imgur.com/gallery/th6Ua', '2', '1', 'dredmorbius', '9/26/2016 1:54']\n",
            "\n",
            "\n",
            "Number of rows: 80401\n",
            "Number of columns: 7\n"
          ]
        }
      ]
    },
    {
      "cell_type": "markdown",
      "source": [
        "*This leaves us with 80401 rows out of 293119 for posts with comments.*"
      ],
      "metadata": {
        "id": "VJavLg4_3Hik"
      }
    },
    {
      "cell_type": "markdown",
      "source": [
        "**Segmenting the posts with comments into three buckets: Ask HN (posts with Ask HN at the start of the post), Show HN (posts with Ask HN at the start of the post) and other posts.**"
      ],
      "metadata": {
        "id": "iUgMHjVz3oP5"
      }
    },
    {
      "cell_type": "code",
      "source": [
        "ask_posts = []\n",
        "show_posts = []\n",
        "other_posts = []\n",
        "\n",
        "for post in hn_comments:\n",
        "  title = post[1]\n",
        "  if title.lower().startswith('ask hn'):\n",
        "    ask_posts.append(post)\n",
        "  elif title.lower().startswith('show hn'):\n",
        "    show_posts.append(post)\n",
        "  else:\n",
        "    other_posts.append(post)\n",
        "\n",
        "explore_data(ask_posts, 0, 3, True)\n",
        "explore_data(show_posts, 0, 3, True)\n",
        "explore_data(other_posts, 0, 3, True)"
      ],
      "metadata": {
        "colab": {
          "base_uri": "https://localhost:8080/"
        },
        "id": "S--JgJS03B4e",
        "outputId": "d26e3755-4197-4872-fcf1-356bc771ce4b"
      },
      "execution_count": 20,
      "outputs": [
        {
          "output_type": "stream",
          "name": "stdout",
          "text": [
            "['12578908', 'Ask HN: What TLD do you use for local development?', '', '4', '7', 'Sevrene', '9/26/2016 2:53']\n",
            "\n",
            "\n",
            "['12578522', 'Ask HN: How do you pass on your work when you die?', '', '6', '3', 'PascLeRasc', '9/26/2016 1:17']\n",
            "\n",
            "\n",
            "['12577870', 'Ask HN: Why join a fund when you can be an angel?', '', '1', '3', 'anthony_james', '9/25/2016 22:48']\n",
            "\n",
            "\n",
            "Number of rows: 6911\n",
            "Number of columns: 7\n",
            "['12577142', 'Show HN: Jumble  Essays on the go #PaulInYourPocket', 'https://itunes.apple.com/us/app/jumble-find-startup-essay/id1150939197?ls=1&mt=8', '1', '1', 'ryderj', '9/25/2016 20:06']\n",
            "\n",
            "\n",
            "['12576813', 'Show HN: Learn Japanese Vocab via multiple choice questions', 'http://japanese.vul.io/', '1', '1', 'soulchild37', '9/25/2016 19:06']\n",
            "\n",
            "\n",
            "['12576090', 'Show HN: Markov chain Twitter bot. Trained on comments left on Pornhub', 'https://twitter.com/botsonasty', '3', '1', 'keepingscore', '9/25/2016 16:50']\n",
            "\n",
            "\n",
            "Number of rows: 5059\n",
            "Number of columns: 7\n",
            "['12578975', 'Saving the Hassle of Shopping', 'https://blog.menswr.com/2016/09/07/whats-new-with-your-style-feed/', '1', '1', 'bdoux', '9/26/2016 3:13']\n",
            "\n",
            "\n",
            "['12578822', 'Amazons Algorithms Dont Find You the Best Deals', 'https://www.technologyreview.com/s/602442/amazons-algorithms-dont-find-you-the-best-deals/', '1', '1', 'yarapavan', '9/26/2016 2:26']\n",
            "\n",
            "\n",
            "['12578694', 'Emergency dose of epinephrine that does not cost an arm and a leg', 'http://m.imgur.com/gallery/th6Ua', '2', '1', 'dredmorbius', '9/26/2016 1:54']\n",
            "\n",
            "\n",
            "Number of rows: 68431\n",
            "Number of columns: 7\n"
          ]
        }
      ]
    },
    {
      "cell_type": "markdown",
      "source": [
        "We have **6,911 posts** asking the Hacker News community a specific question.\n",
        "\n",
        "We have **5,059 posts** showing the Hacker News community a project, product, or just generally something interesting.\n",
        "\n",
        "We have **68,431 posts** on others."
      ],
      "metadata": {
        "id": "f4fdzHvXKVG3"
      }
    },
    {
      "cell_type": "markdown",
      "source": [
        "**Average number of Comments for Ask HN and Show HN**"
      ],
      "metadata": {
        "id": "SYXiCnFtLSmD"
      }
    },
    {
      "cell_type": "code",
      "source": [
        "total_ask_comments = 0\n",
        "for post in ask_posts:\n",
        "  num_comments = int(post[4])\n",
        "  total_ask_comments += num_comments\n",
        "avg_ask_comments = total_ask_comments / len(ask_posts)\n",
        "print(total_ask_comments)\n",
        "print(len(ask_posts))\n",
        "print(avg_ask_comments)"
      ],
      "metadata": {
        "colab": {
          "base_uri": "https://localhost:8080/"
        },
        "id": "Ki14OKAhK-Hc",
        "outputId": "e995dcd7-c319-4692-e053-f173a1716579"
      },
      "execution_count": 27,
      "outputs": [
        {
          "output_type": "stream",
          "name": "stdout",
          "text": [
            "94986\n",
            "6911\n",
            "13.744175951381855\n"
          ]
        }
      ]
    },
    {
      "cell_type": "code",
      "source": [
        "total_show_comments = 0\n",
        "for post in show_posts:\n",
        "  num_comments = int(post[4])\n",
        "  total_show_comments += num_comments\n",
        "avg_show_comments = total_show_comments / len(show_posts)\n",
        "print(total_show_comments)\n",
        "print(len(show_posts))\n",
        "print(avg_show_comments)"
      ],
      "metadata": {
        "colab": {
          "base_uri": "https://localhost:8080/"
        },
        "id": "6t8FKvz_RjqR",
        "outputId": "e310f6ea-64e0-4ed6-9df9-19d7968c55a6"
      },
      "execution_count": 28,
      "outputs": [
        {
          "output_type": "stream",
          "name": "stdout",
          "text": [
            "49633\n",
            "5059\n",
            "9.810832180272781\n"
          ]
        }
      ]
    },
    {
      "cell_type": "markdown",
      "source": [
        "*The average number of comments under the Ask HN posts is approximately 14 comments, which is higher than the the average number of comments under the Show HN posts (approximately 10 comments)*"
      ],
      "metadata": {
        "id": "sTje3kizSF7f"
      }
    },
    {
      "cell_type": "markdown",
      "source": [
        "**Volume of Ask HN posts and comments by the hour they were created**"
      ],
      "metadata": {
        "id": "_tMLV0JXWPdt"
      }
    },
    {
      "cell_type": "code",
      "source": [
        "result_list = []\n",
        "for post in ask_posts:\n",
        "  time_created = post[6]\n",
        "  num_comments = int(post[4])\n",
        "  result_list.append([time_created, num_comments])\n",
        "print(result_list[:4])"
      ],
      "metadata": {
        "colab": {
          "base_uri": "https://localhost:8080/"
        },
        "id": "ijttDBDUSSN5",
        "outputId": "e6a77b5a-fa8e-432b-a29f-3b3fe0d75624"
      },
      "execution_count": 29,
      "outputs": [
        {
          "output_type": "stream",
          "name": "stdout",
          "text": [
            "[['9/26/2016 2:53', 7], ['9/26/2016 1:17', 3], ['9/25/2016 22:48', 3], ['9/25/2016 21:50', 2]]\n"
          ]
        }
      ]
    },
    {
      "cell_type": "code",
      "source": [
        "counts_by_hour = {}\n",
        "comments_by_hour = {}\n",
        "for item in result_list:\n",
        "  date_time = item[0]\n",
        "  comment_num = item[1]\n",
        "  # print(date_time)\n",
        "  stripped_date_time = datetime.strptime(date_time, \"%m/%d/%Y %H:%M\")\n",
        "  # print(stripped_date_time)\n",
        "  hour = datetime.strftime(stripped_date_time, \"%H\")\n",
        "  # print(hour)\n",
        "  if hour not in counts_by_hour:\n",
        "    counts_by_hour[hour] = 1\n",
        "    comments_by_hour[hour] = comment_num\n",
        "  else:\n",
        "    counts_by_hour[hour] += 1\n",
        "    comments_by_hour[hour] += comment_num\n",
        "print(counts_by_hour)\n",
        "print(comments_by_hour)"
      ],
      "metadata": {
        "colab": {
          "base_uri": "https://localhost:8080/"
        },
        "id": "nJAm2EhUZOim",
        "outputId": "ef121a1c-c0b8-4899-cecf-b4506b14456d"
      },
      "execution_count": 55,
      "outputs": [
        {
          "output_type": "stream",
          "name": "stdout",
          "text": [
            "{'02': 227, '01': 223, '22': 287, '21': 407, '19': 420, '17': 404, '15': 467, '14': 378, '13': 326, '11': 251, '10': 219, '09': 176, '07': 157, '03': 212, '16': 415, '08': 190, '00': 231, '23': 276, '20': 392, '18': 452, '12': 274, '04': 186, '06': 176, '05': 165}\n",
            "{'02': 2996, '01': 2089, '22': 3372, '21': 4500, '19': 3954, '17': 5547, '15': 18525, '14': 4972, '13': 7245, '11': 2797, '10': 3013, '09': 1477, '07': 1585, '03': 2154, '16': 4466, '08': 2362, '00': 2277, '23': 2297, '20': 4462, '18': 4877, '12': 4234, '04': 2360, '06': 1587, '05': 1838}\n"
          ]
        }
      ]
    },
    {
      "cell_type": "markdown",
      "source": [
        "**Average Number of Comments per Ask HN Posts by Hour**"
      ],
      "metadata": {
        "id": "jM4tq2O6jbIG"
      }
    },
    {
      "cell_type": "code",
      "source": [
        "avg_num_comments_by_hour = []\n",
        "for count in comments_by_hour:\n",
        "  avg_count = round(comments_by_hour[count] / counts_by_hour[count])\n",
        "  # print(comments_by_hour[count], counts_by_hour[count])\n",
        "  # print(avg_count)\n",
        "  avg_num_comments_by_hour.append([count, avg_count])\n",
        "print(avg_num_comments_by_hour)"
      ],
      "metadata": {
        "colab": {
          "base_uri": "https://localhost:8080/"
        },
        "id": "dEX7QtZjjc-2",
        "outputId": "46fae385-6769-4e47-db72-a3623d6264af"
      },
      "execution_count": 62,
      "outputs": [
        {
          "output_type": "stream",
          "name": "stdout",
          "text": [
            "[['02', 13], ['01', 9], ['22', 12], ['21', 11], ['19', 9], ['17', 14], ['15', 40], ['14', 13], ['13', 22], ['11', 11], ['10', 14], ['09', 8], ['07', 10], ['03', 10], ['16', 11], ['08', 12], ['00', 10], ['23', 8], ['20', 11], ['18', 11], ['12', 15], ['04', 13], ['06', 9], ['05', 11]]\n"
          ]
        }
      ]
    },
    {
      "cell_type": "markdown",
      "source": [
        "*This means an average of **13 comments** per post posted at **2am**, average of **40 comments** per post posted at **3pm**, etc.*"
      ],
      "metadata": {
        "id": "BpVofFoH4Sig"
      }
    },
    {
      "cell_type": "code",
      "source": [
        "avg_hr_swap = []\n",
        "for item in avg_num_comments_by_hour:\n",
        "  new_hr_swap = [item[1], item[0]]\n",
        "  avg_hr_swap.append(new_hr_swap)\n",
        "print(avg_hr_swap)"
      ],
      "metadata": {
        "colab": {
          "base_uri": "https://localhost:8080/"
        },
        "id": "7PgOlmvW4y3f",
        "outputId": "31b9f99c-79f3-4d98-87bd-66a4bc018c9f"
      },
      "execution_count": 63,
      "outputs": [
        {
          "output_type": "stream",
          "name": "stdout",
          "text": [
            "[[13, '02'], [9, '01'], [12, '22'], [11, '21'], [9, '19'], [14, '17'], [40, '15'], [13, '14'], [22, '13'], [11, '11'], [14, '10'], [8, '09'], [10, '07'], [10, '03'], [11, '16'], [12, '08'], [10, '00'], [8, '23'], [11, '20'], [11, '18'], [15, '12'], [13, '04'], [9, '06'], [11, '05']]\n"
          ]
        }
      ]
    },
    {
      "cell_type": "code",
      "source": [
        "sorted_hr_swap = sorted(avg_hr_swap, reverse=True)\n",
        "print(sorted_hr_swap)\n"
      ],
      "metadata": {
        "colab": {
          "base_uri": "https://localhost:8080/"
        },
        "id": "ormBCDgf_egK",
        "outputId": "323f13be-e2de-41e8-ab35-ae603593c88f"
      },
      "execution_count": 66,
      "outputs": [
        {
          "output_type": "stream",
          "name": "stdout",
          "text": [
            "[[40, '15'], [22, '13'], [15, '12'], [14, '17'], [14, '10'], [13, '14'], [13, '04'], [13, '02'], [12, '22'], [12, '08'], [11, '21'], [11, '20'], [11, '18'], [11, '16'], [11, '11'], [11, '05'], [10, '07'], [10, '03'], [10, '00'], [9, '19'], [9, '06'], [9, '01'], [8, '23'], [8, '09']]\n"
          ]
        }
      ]
    },
    {
      "cell_type": "markdown",
      "source": [
        "**Conclusion**\n",
        "\n",
        "In conclusion, it can be deduced that posts asking the Hacker News community about a specific question are likely to have high number of comments when posted during the following periods:\n",
        "\n",
        "1. 3pm\n",
        "2. 1pm\n",
        "3. 12pm\n",
        "4. 5pm\n",
        "5. 10am"
      ],
      "metadata": {
        "id": "v-gYl9XVOZhX"
      }
    }
  ]
}